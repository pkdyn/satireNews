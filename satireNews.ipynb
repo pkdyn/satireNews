{
  "nbformat": 4,
  "nbformat_minor": 0,
  "metadata": {
    "colab": {
      "name": "satireNews.ipynb",
      "provenance": [],
      "collapsed_sections": [],
      "include_colab_link": true
    },
    "kernelspec": {
      "name": "python3",
      "display_name": "Python 3"
    },
    "language_info": {
      "name": "python"
    },
    "accelerator": "GPU"
  },
  "cells": [
    {
      "cell_type": "markdown",
      "metadata": {
        "id": "view-in-github",
        "colab_type": "text"
      },
      "source": [
        "<a href=\"https://colab.research.google.com/github/pkdyn/satireNews/blob/main/satireNews.ipynb\" target=\"_parent\"><img src=\"https://colab.research.google.com/assets/colab-badge.svg\" alt=\"Open In Colab\"/></a>"
      ]
    },
    {
      "cell_type": "code",
      "metadata": {
        "id": "nqVbChzh_23_"
      },
      "source": [
        "import tensorflow as tf\n",
        "from tensorflow import keras\n",
        "from tensorflow.keras.preprocessing.text import Tokenizer\n",
        "from tensorflow.keras.preprocessing.sequence import pad_sequences"
      ],
      "execution_count": null,
      "outputs": []
    },
    {
      "cell_type": "code",
      "metadata": {
        "id": "f2y9k7AMK_ci"
      },
      "source": [
        "from bs4 import BeautifulSoup\n",
        "import string\n",
        "\n",
        "stopwords = [\"a\", \"about\", \"above\", \"after\",\"afterwards\", \"again\", \"against\",\n",
        "             \"all\", \"am\", \"an\", \"and\", \"any\", \"are\", \"as\", \"at\",\"almost\",\n",
        "             \"along\",\"already\",\"although\", \"among\", \"amongst\", \"always\",\n",
        "             \"another\", \"anyhow\",\"anyone\",\"anything\",\"anyway\",\"anywhere\", \n",
        "             \"be\", \"because\", \"been\", \"before\", \"being\", \"below\",\"beforehand\", \"beside\", \"besides\",\n",
        "             \"between\", \"both\", \"but\", \"by\", \"could\", \"did\", \"do\",\"couldnt\",\n",
        "             \"does\", \"doing\", \"during\", \"each\", \"few\", \"for\",\"done\",\"detail\",\"even\",\"get\",\"go\",\"goes\", \n",
        "             \"from\", \"further\", \"had\", \"has\", \"have\", \"having\",\"hasnt\",\"hence\",\n",
        "             \"he\", \"hed\", \"hes\", \"her\", \"here\", \"heres\", \"hers\",\"hereafter\",\"hereby\",\"herein\",\"hereupon\",\n",
        "             \"herself\", \"him\", \"himself\", \"his\", \"how\",\"hows\", \"i\", \"id\",\"however\",\n",
        "             \"ill\", \"im\", \"ive\", \"if\", \"in\", \"into\",\"is\", \"it\", \"its\",\"ie\",\"inc\",\"indeed\",\n",
        "             \"itself\",\"lets\", \"me\", \"more\", \"most\", \"my\",\"myself\", \"nor\",\"ltd\",\"less\",\"many\",\"may\",\"must\",\n",
        "              \"meanwhile\",\"might\",\"mine\",\"namely\",\"neither\",\"nevertheless\",\"now\",\"maybe\",\n",
        "             \"of\", \"on\", \"once\", \"only\", \"or\", \"other\", \"ought\",\"off\",\"often\",\"others\",\"otherwise\",\n",
        "             \"our\", \"ours\", \"ourselves\", \"out\", \"over\", \"own\", \"same\", \"she\",\"perhaps\",\"please\",\"per\",\"seem\",\"seems\",\"seemed\",\"seeming\",\n",
        "             \"shed\", \"shell\", \"shes\", \"should\",\"since\", \"so\", \"some\", \"such\", \"than\",\"rather\",\"several\",\"serious\",\"show\",\"shows\",\n",
        "             \"that\", \"thats\", \"the\", \"their\", \"theirs\", \"them\", \"themselves\",\"somehow\",\"sometimes\",\"still\",\n",
        "             \"then\",\"there\", \"theres\", \"these\", \"they\", \"theyd\", \"theyll\",\"thereafter\",\"thereby\",\"therefore\",\"therein\",\n",
        "             \"theyre\",\"theyve\", \"this\", \"those\", \"though\",\"to\", \"too\",\"through\",\"throughout\",\"thru\",\"thus\",\"together\",\n",
        "             \"under\", \"until\",\"up\", \"very\", \"was\", \"we\", \"wed\", \"well\",\n",
        "             \"were\", \"weve\", \"were\",\"what\", \"whats\", \"when\", \"whens\", \"where\",\n",
        "             \"whereas\",\"whereby\",\"whereupon\",\"whether\",\"whoever\",\"whose\",\"will\"\n",
        "             \"wheres\", \"which\", \"while\",\"who\", \"whos\", \"whom\", \"why\",\"whys\",\n",
        "             \"with\", \"would\", \"you\", \"youd\",\"youll\", \"youre\", \"youve\", \"your\",\"yet\",\n",
        "             \"yours\", \"yourself\",\"yourselves\"]\n",
        "\n",
        "table = str.maketrans('', '', string.punctuation)"
      ],
      "execution_count": null,
      "outputs": []
    },
    {
      "cell_type": "code",
      "metadata": {
        "colab": {
          "base_uri": "https://localhost:8080/"
        },
        "id": "WyyCZEjOmJ06",
        "outputId": "13121ccf-a9bb-4dbf-a916-cd8dd64a9ac7"
      },
      "source": [
        "!wget --no-check-certificate \\\n",
        "    https://storage.googleapis.com/laurencemoroney-blog.appspot.com/glove.zip\\\n",
        "    -O /tmp/glove.zip\n"
      ],
      "execution_count": null,
      "outputs": [
        {
          "output_type": "stream",
          "text": [
            "--2021-07-19 09:49:59--  https://storage.googleapis.com/laurencemoroney-blog.appspot.com/glove.zip\n",
            "Resolving storage.googleapis.com (storage.googleapis.com)... 74.125.195.128, 173.194.203.128, 74.125.20.128, ...\n",
            "Connecting to storage.googleapis.com (storage.googleapis.com)|74.125.195.128|:443... connected.\n",
            "HTTP request sent, awaiting response... 200 OK\n",
            "Length: 112372936 (107M) [application/zip]\n",
            "Saving to: ‘/tmp/glove.zip’\n",
            "\n",
            "/tmp/glove.zip      100%[===================>] 107.17M   215MB/s    in 0.5s    \n",
            "\n",
            "2021-07-19 09:50:00 (215 MB/s) - ‘/tmp/glove.zip’ saved [112372936/112372936]\n",
            "\n"
          ],
          "name": "stdout"
        }
      ]
    },
    {
      "cell_type": "code",
      "metadata": {
        "id": "F92BlFFwTIs-"
      },
      "source": [
        "\n",
        "import numpy as np\n",
        "import os\n",
        "import zipfile\n",
        "\n",
        "local_zip = '/tmp/glove.zip'\n",
        "zip_ref = zipfile.ZipFile(local_zip, 'r')\n",
        "zip_ref.extractall('/tmp/glove')\n",
        "zip_ref.close()\n",
        "\n",
        "glove_embeddings = dict()\n",
        "f = open('/tmp/glove/glove.twitter.27B.25d.txt')\n",
        "for line in f:\n",
        "    values = line.split()\n",
        "    word = values[0]\n",
        "    coefs = np.asarray(values[1:], dtype='float32')\n",
        "    glove_embeddings[word] = coefs\n",
        "f.close()"
      ],
      "execution_count": null,
      "outputs": []
    },
    {
      "cell_type": "code",
      "metadata": {
        "colab": {
          "base_uri": "https://localhost:8080/"
        },
        "id": "ZnMFIzkzo03H",
        "outputId": "baff001c-e872-472f-b138-9902ba3e7ebf"
      },
      "source": [
        "print('Loaded %s word vectors.' % len(glove_embeddings))"
      ],
      "execution_count": null,
      "outputs": [
        {
          "output_type": "stream",
          "text": [
            "Loaded 1193514 word vectors.\n"
          ],
          "name": "stdout"
        }
      ]
    },
    {
      "cell_type": "code",
      "metadata": {
        "id": "mxp0HBhQAAW6",
        "colab": {
          "base_uri": "https://localhost:8080/"
        },
        "outputId": "22202211-b98c-4141-d2b8-b5af8a301eee"
      },
      "source": [
        "!wget --no-check-certificate \\\n",
        "    https://storage.googleapis.com/laurencemoroney-blog.appspot.com/sarcasm.json \\\n",
        "    -O /tmp/sarcasm.json\n",
        "  \n",
        "import json\n",
        "with open(\"/tmp/sarcasm.json\", 'r') as f:\n",
        "    datastore = json.load(f)\n",
        "\n",
        "sentences = [] \n",
        "labels = []\n",
        "urls = []\n",
        "\n",
        "for item in datastore:\n",
        "    sentence = item['headline'].lower()\n",
        "    sentence = sentence.replace(\",\", \" , \")\n",
        "    sentence = sentence.replace(\".\", \" . \")\n",
        "    sentence = sentence.replace(\"-\", \" - \")\n",
        "    sentence = sentence.replace(\"/\", \" / \")\n",
        "    soup = BeautifulSoup(sentence)\n",
        "    sentence = soup.get_text()\n",
        "    words = sentence.split()\n",
        "    filtered_sentence = \"\"\n",
        "    for word in words:\n",
        "        word = word.translate(table)\n",
        "        if word not in stopwords:\n",
        "            filtered_sentence = filtered_sentence + word + \" \"\n",
        "    sentences.append(filtered_sentence)\n",
        "    labels.append(item['is_sarcastic'])\n",
        "    urls.append(item['article_link'])\n",
        "\n",
        "print(len(sentences))"
      ],
      "execution_count": null,
      "outputs": [
        {
          "output_type": "stream",
          "text": [
            "--2021-07-19 09:59:04--  https://storage.googleapis.com/laurencemoroney-blog.appspot.com/sarcasm.json\n",
            "Resolving storage.googleapis.com (storage.googleapis.com)... 142.250.107.128, 173.194.202.128, 74.125.135.128, ...\n",
            "Connecting to storage.googleapis.com (storage.googleapis.com)|142.250.107.128|:443... connected.\n",
            "HTTP request sent, awaiting response... 200 OK\n",
            "Length: 5643545 (5.4M) [application/json]\n",
            "Saving to: ‘/tmp/sarcasm.json’\n",
            "\n",
            "\r/tmp/sarcasm.json     0%[                    ]       0  --.-KB/s               \r/tmp/sarcasm.json   100%[===================>]   5.38M  --.-KB/s    in 0.03s   \n",
            "\n",
            "2021-07-19 09:59:04 (173 MB/s) - ‘/tmp/sarcasm.json’ saved [5643545/5643545]\n",
            "\n",
            "26709\n"
          ],
          "name": "stdout"
        }
      ]
    },
    {
      "cell_type": "code",
      "metadata": {
        "colab": {
          "base_uri": "https://localhost:8080/",
          "height": 265
        },
        "id": "iUoAmWiPHsYK",
        "outputId": "2a72f6a2-efdf-4e96-f238-e835757641bf"
      },
      "source": [
        "xs=[]\n",
        "ys=[]\n",
        "current_item=1\n",
        "for item in sentences:\n",
        "  xs.append(current_item)\n",
        "  current_item=current_item+1\n",
        "  ys.append(len(item))\n",
        "newys = sorted(ys)\n",
        "import matplotlib.pyplot as plt\n",
        "plt.plot(xs,newys)\n",
        "plt.show()"
      ],
      "execution_count": null,
      "outputs": [
        {
          "output_type": "display_data",
          "data": {
            "image/png": "[encoded data removed]",
            "text/plain": [
              "<Figure size 432x288 with 1 Axes>"
            ]
          },
          "metadata": {
            "tags": [],
            "needs_background": "light"
          }
        }
      ]
    },
    {
      "cell_type": "code",
      "metadata": {
        "colab": {
          "base_uri": "https://localhost:8080/"
        },
        "id": "Z8dTLSxaMduG",
        "outputId": "6b1cef48-7d14-4fe7-b032-bb0a70bd96a7"
      },
      "source": [
        "vocab_size = 12500\n",
        "embedding_dim = 25\n",
        "max_length = 85\n",
        "trunc_type='post'\n",
        "padding_type='post'\n",
        "oov_tok = \"<OOV>\"\n",
        "training_size = 21500\n",
        "\n",
        "training_sentences = sentences[0:training_size]\n",
        "testing_sentences = sentences[training_size:]\n",
        "training_labels = labels[0:training_size]\n",
        "testing_labels = labels[training_size:]\n",
        "\n",
        "tokenizer = Tokenizer(num_words=vocab_size, oov_token=oov_tok)\n",
        "tokenizer.fit_on_texts(training_sentences)\n",
        "\n",
        "word_index = tokenizer.word_index\n",
        "print(len(word_index))\n",
        "training_sequences = tokenizer.texts_to_sequences(training_sentences)\n",
        "training_padded = pad_sequences(training_sequences, maxlen=max_length, padding=padding_type, truncating=trunc_type)\n",
        "testing_sequences = tokenizer.texts_to_sequences(testing_sentences)\n",
        "testing_padded = pad_sequences(testing_sequences, maxlen=max_length, padding=padding_type, truncating=trunc_type)"
      ],
      "execution_count": null,
      "outputs": [
        {
          "output_type": "stream",
          "text": [
            "23501\n"
          ],
          "name": "stdout"
        }
      ]
    },
    {
      "cell_type": "code",
      "metadata": {
        "colab": {
          "base_uri": "https://localhost:8080/",
          "height": 286
        },
        "id": "Ql1JhGR3LWsn",
        "outputId": "16b83a9e-ad4b-41f0-895e-a31b5098d3b5"
      },
      "source": [
        "xs=[]\n",
        "ys=[]\n",
        "cumulative_x=[]\n",
        "cumulative_y=[]\n",
        "total_y=0\n",
        "for word, index in tokenizer.word_index.items():\n",
        "  xs.append(index)\n",
        "  cumulative_x.append(index)\n",
        "  if glove_embeddings.get(word) is not None:\n",
        "    total_y = total_y + 1\n",
        "    ys.append(1)\n",
        "  else:\n",
        "    ys.append(0)\n",
        "  cumulative_y.append(total_y / index)\n",
        "\n",
        "import matplotlib.pyplot as plt\n",
        "#fig, ax = plt.subplots(figsize=(12,2))\n",
        "#ax.spines['top'].set_visible(False)\n",
        "\n",
        "plt.plot(cumulative_x, cumulative_y)\n",
        "plt.axis([12000, 14000, 0.8, 1])\n",
        "#plt.margins(x=0, y=None, tight=True)\n",
        "#plt.axis([0, 26000, 0, 1])\n",
        "#plt.fill(ys)"
      ],
      "execution_count": null,
      "outputs": [
        {
          "output_type": "execute_result",
          "data": {
            "text/plain": [
              "(12000.0, 14000.0, 0.8, 1.0)"
            ]
          },
          "metadata": {
            "tags": []
          },
          "execution_count": 61
        },
        {
          "output_type": "display_data",
          "data": {
            "image/png": "[encoded data removed]",
            "text/plain": [
              "<Figure size 432x288 with 1 Axes>"
            ]
          },
          "metadata": {
            "tags": [],
            "needs_background": "light"
          }
        }
      ]
    },
    {
      "cell_type": "code",
      "metadata": {
        "id": "7RCzHEHHpvd2"
      },
      "source": [
        "embedding_matrix = np.zeros((vocab_size, embedding_dim))\n",
        "for word, index in tokenizer.word_index.items():\n",
        "    if index > vocab_size - 1:\n",
        "        break\n",
        "    else:\n",
        "        embedding_vector = glove_embeddings.get(word)\n",
        "        if embedding_vector is not None:\n",
        "            embedding_matrix[index] = embedding_vector"
      ],
      "execution_count": null,
      "outputs": []
    },
    {
      "cell_type": "code",
      "metadata": {
        "id": "UjX0PVcdqZXR"
      },
      "source": [
        "import numpy as np\n",
        "training_padded = np.array(training_padded)\n",
        "training_labels = np.array(training_labels)\n",
        "testing_padded = np.array(testing_padded)\n",
        "testing_labels = np.array(testing_labels)"
      ],
      "execution_count": null,
      "outputs": []
    },
    {
      "cell_type": "code",
      "metadata": {
        "id": "XLd9xqWSqd01"
      },
      "source": [
        "def make_model(learning_rate=0.001, size=24):\n",
        "  model = tf.keras.Sequential([\n",
        "      tf.keras.layers.Embedding(vocab_size, embedding_dim, weights=[embedding_matrix], trainable=False),\n",
        "      tf.keras.layers.Bidirectional(tf.keras.layers.LSTM(embedding_dim, return_sequences=True, dropout=0.15) ),\n",
        "      tf.keras.layers.Bidirectional(tf.keras.layers.LSTM(embedding_dim, dropout=0.15)),\n",
        "      tf.keras.layers.Dense(size, activation='relu'),\n",
        "      tf.keras.layers.Dense(1, activation='sigmoid')\n",
        "  ])\n",
        "  adam = tf.keras.optimizers.Adam(learning_rate)\n",
        "  model.compile(loss='binary_crossentropy',optimizer=adam, metrics=['accuracy'])\n",
        "  return model\n"
      ],
      "execution_count": null,
      "outputs": []
    },
    {
      "cell_type": "code",
      "metadata": {
        "id": "sPhV2Erjq0kW",
        "colab": {
          "base_uri": "https://localhost:8080/",
          "height": 646
        },
        "outputId": "99d145e2-a204-4e8e-d3e3-16de999b9efe"
      },
      "source": [
        "num_epochs = 5\n",
        "model = make_model(learning_rate=0.001)\n",
        "history_001 = model.fit(training_padded, training_labels, epochs=num_epochs, validation_data=(testing_padded, testing_labels))\n",
        "model = make_model(learning_rate=0.0001)\n",
        "history_0001 = model.fit(training_padded, training_labels, epochs=num_epochs, validation_data=(testing_padded, testing_labels))\n",
        "epochs = np.arange(5)\n",
        "val_001 = history_001.history['val_accuracy']\n",
        "val_0001 = history_0001.history['val_accuracy']\n",
        "plt.figure(figsize=(6, 4))\n",
        "plt.plot(epochs, val_001, color='green', linestyle='solid', label='0.001')\n",
        "plt.plot(epochs, val_0001, color='blue', linestyle='solid', label='0.0001')\n",
        "plt.title('Accuracy vs Epoch ')\n",
        "plt.xlabel('Epoch')\n",
        "plt.ylabel('Accuracy')\n",
        "plt.xticks(epochs)\n",
        "plt.legend()\n",
        "plt.show()"
      ],
      "execution_count": null,
      "outputs": [
        {
          "output_type": "stream",
          "text": [
            "Epoch 1/5\n",
            "672/672 [==============================] - 19s 21ms/step - loss: 0.5889 - accuracy: 0.6882 - val_loss: 0.5526 - val_accuracy: 0.7232\n",
            "Epoch 2/5\n",
            "672/672 [==============================] - 13s 20ms/step - loss: 0.5346 - accuracy: 0.7313 - val_loss: 0.5193 - val_accuracy: 0.7395\n",
            "Epoch 3/5\n",
            "672/672 [==============================] - 12s 18ms/step - loss: 0.5120 - accuracy: 0.7470 - val_loss: 0.5003 - val_accuracy: 0.7560\n",
            "Epoch 4/5\n",
            "672/672 [==============================] - 12s 18ms/step - loss: 0.4953 - accuracy: 0.7557 - val_loss: 0.4882 - val_accuracy: 0.7614\n",
            "Epoch 5/5\n",
            "672/672 [==============================] - 12s 18ms/step - loss: 0.4826 - accuracy: 0.7646 - val_loss: 0.5146 - val_accuracy: 0.7428\n",
            "Epoch 1/5\n",
            "672/672 [==============================] - 20s 21ms/step - loss: 0.6441 - accuracy: 0.6405 - val_loss: 0.6001 - val_accuracy: 0.6848\n",
            "Epoch 2/5\n",
            "672/672 [==============================] - 13s 19ms/step - loss: 0.5973 - accuracy: 0.6867 - val_loss: 0.5850 - val_accuracy: 0.6963\n",
            "Epoch 3/5\n",
            "672/672 [==============================] - 12s 18ms/step - loss: 0.5855 - accuracy: 0.6944 - val_loss: 0.5758 - val_accuracy: 0.7051\n",
            "Epoch 4/5\n",
            "672/672 [==============================] - 12s 18ms/step - loss: 0.5733 - accuracy: 0.7051 - val_loss: 0.5655 - val_accuracy: 0.7078\n",
            "Epoch 5/5\n",
            "672/672 [==============================] - 12s 18ms/step - loss: 0.5669 - accuracy: 0.7085 - val_loss: 0.5570 - val_accuracy: 0.7199\n"
          ],
          "name": "stdout"
        },
        {
          "output_type": "display_data",
          "data": {
            "image/png": "[encoded data removed]",
            "text/plain": [
              "<Figure size 432x288 with 1 Axes>"
            ]
          },
          "metadata": {
            "tags": [],
            "needs_background": "light"
          }
        }
      ]
    },
    {
      "cell_type": "code",
      "metadata": {
        "colab": {
          "base_uri": "https://localhost:8080/",
          "height": 1000
        },
        "id": "HIEAK9JsSNgC",
        "outputId": "df102b39-a41d-42a8-f047-b1b7ad738e58"
      },
      "source": [
        "num_epochs = 10\n",
        "model = make_model(learning_rate=0.001, size=5)\n",
        "history_001_5 = model.fit(training_padded, training_labels, epochs=num_epochs, validation_data=(testing_padded, testing_labels))\n",
        "model = make_model(learning_rate=0.001, size=10)\n",
        "history_001_10 = model.fit(training_padded, training_labels, epochs=num_epochs, validation_data=(testing_padded, testing_labels))\n",
        "model = make_model(learning_rate=0.001, size=15)\n",
        "history_001_15 = model.fit(training_padded, training_labels, epochs=num_epochs, validation_data=(testing_padded, testing_labels))\n",
        "epochs = np.arange(10)\n",
        "val_001_5 = history_001_5.history['val_accuracy']\n",
        "val_001_10= history_001_10.history['val_accuracy']\n",
        "val_001_15= history_001_15.history['val_accuracy']\n",
        "plt.figure(figsize=(6, 4))\n",
        "plt.plot(epochs, val_001_5, color='black', linestyle='solid', label='0.001, 5')\n",
        "plt.plot(epochs, val_001_10, color='red', linestyle='solid', label='0.001, 10')\n",
        "plt.plot(epochs, val_001_15, color='yellow', linestyle='solid', label='0.001, 15')\n",
        "plt.title('Accuracy vs Epoch ')\n",
        "plt.xlabel('Epoch')\n",
        "plt.ylabel('Accuracy')\n",
        "plt.xticks(epochs)\n",
        "plt.legend()\n",
        "plt.show()"
      ],
      "execution_count": null,
      "outputs": [
        {
          "output_type": "stream",
          "text": [
            "Epoch 1/10\n",
            "672/672 [==============================] - 19s 22ms/step - loss: 0.5843 - accuracy: 0.6931 - val_loss: 0.5506 - val_accuracy: 0.7193\n",
            "Epoch 2/10\n",
            "672/672 [==============================] - 12s 18ms/step - loss: 0.5285 - accuracy: 0.7382 - val_loss: 0.5117 - val_accuracy: 0.7460\n",
            "Epoch 3/10\n",
            "672/672 [==============================] - 12s 18ms/step - loss: 0.5044 - accuracy: 0.7556 - val_loss: 0.5037 - val_accuracy: 0.7489\n",
            "Epoch 4/10\n",
            "672/672 [==============================] - 12s 18ms/step - loss: 0.4882 - accuracy: 0.7654 - val_loss: 0.4971 - val_accuracy: 0.7562\n",
            "Epoch 5/10\n",
            "672/672 [==============================] - 13s 19ms/step - loss: 0.4735 - accuracy: 0.7719 - val_loss: 0.4802 - val_accuracy: 0.7667\n",
            "Epoch 6/10\n",
            "672/672 [==============================] - 13s 19ms/step - loss: 0.4641 - accuracy: 0.7768 - val_loss: 0.4810 - val_accuracy: 0.7627\n",
            "Epoch 7/10\n",
            "672/672 [==============================] - 12s 18ms/step - loss: 0.4600 - accuracy: 0.7794 - val_loss: 0.4708 - val_accuracy: 0.7714\n",
            "Epoch 8/10\n",
            "672/672 [==============================] - 12s 18ms/step - loss: 0.4466 - accuracy: 0.7921 - val_loss: 0.4690 - val_accuracy: 0.7700\n",
            "Epoch 9/10\n",
            "672/672 [==============================] - 12s 18ms/step - loss: 0.4428 - accuracy: 0.7920 - val_loss: 0.4663 - val_accuracy: 0.7744\n",
            "Epoch 10/10\n",
            "672/672 [==============================] - 13s 19ms/step - loss: 0.4365 - accuracy: 0.7954 - val_loss: 0.4670 - val_accuracy: 0.7748\n",
            "Epoch 1/10\n",
            "672/672 [==============================] - 19s 21ms/step - loss: 0.5876 - accuracy: 0.6842 - val_loss: 0.5410 - val_accuracy: 0.7253\n",
            "Epoch 2/10\n",
            "672/672 [==============================] - 12s 18ms/step - loss: 0.5272 - accuracy: 0.7402 - val_loss: 0.5122 - val_accuracy: 0.7474\n",
            "Epoch 3/10\n",
            "672/672 [==============================] - 13s 19ms/step - loss: 0.5079 - accuracy: 0.7510 - val_loss: 0.4999 - val_accuracy: 0.7522\n",
            "Epoch 4/10\n",
            "672/672 [==============================] - 12s 18ms/step - loss: 0.4900 - accuracy: 0.7622 - val_loss: 0.4873 - val_accuracy: 0.7625\n",
            "Epoch 5/10\n",
            "672/672 [==============================] - 13s 19ms/step - loss: 0.4753 - accuracy: 0.7719 - val_loss: 0.4955 - val_accuracy: 0.7581\n",
            "Epoch 6/10\n",
            "672/672 [==============================] - 13s 19ms/step - loss: 0.4692 - accuracy: 0.7764 - val_loss: 0.4778 - val_accuracy: 0.7662\n",
            "Epoch 7/10\n",
            "672/672 [==============================] - 12s 18ms/step - loss: 0.4600 - accuracy: 0.7843 - val_loss: 0.4767 - val_accuracy: 0.7648\n",
            "Epoch 8/10\n",
            "672/672 [==============================] - 12s 18ms/step - loss: 0.4506 - accuracy: 0.7873 - val_loss: 0.4755 - val_accuracy: 0.7696\n",
            "Epoch 9/10\n",
            "672/672 [==============================] - 12s 18ms/step - loss: 0.4451 - accuracy: 0.7910 - val_loss: 0.4696 - val_accuracy: 0.7742\n",
            "Epoch 10/10\n",
            "672/672 [==============================] - 13s 19ms/step - loss: 0.4421 - accuracy: 0.7922 - val_loss: 0.4667 - val_accuracy: 0.7756\n",
            "Epoch 1/10\n",
            "672/672 [==============================] - 19s 20ms/step - loss: 0.5780 - accuracy: 0.6970 - val_loss: 0.5398 - val_accuracy: 0.7276\n",
            "Epoch 2/10\n",
            "672/672 [==============================] - 12s 18ms/step - loss: 0.5276 - accuracy: 0.7379 - val_loss: 0.5160 - val_accuracy: 0.7433\n",
            "Epoch 3/10\n",
            "672/672 [==============================] - 12s 18ms/step - loss: 0.5019 - accuracy: 0.7532 - val_loss: 0.5071 - val_accuracy: 0.7570\n",
            "Epoch 4/10\n",
            "672/672 [==============================] - 13s 20ms/step - loss: 0.4867 - accuracy: 0.7634 - val_loss: 0.4847 - val_accuracy: 0.7606\n",
            "Epoch 5/10\n",
            "672/672 [==============================] - 13s 19ms/step - loss: 0.4759 - accuracy: 0.7733 - val_loss: 0.4739 - val_accuracy: 0.7719\n",
            "Epoch 6/10\n",
            "672/672 [==============================] - 13s 19ms/step - loss: 0.4662 - accuracy: 0.7778 - val_loss: 0.4717 - val_accuracy: 0.7669\n",
            "Epoch 7/10\n",
            "672/672 [==============================] - 13s 19ms/step - loss: 0.4589 - accuracy: 0.7824 - val_loss: 0.4855 - val_accuracy: 0.7633\n",
            "Epoch 8/10\n",
            "672/672 [==============================] - 13s 19ms/step - loss: 0.4511 - accuracy: 0.7890 - val_loss: 0.4647 - val_accuracy: 0.7729\n",
            "Epoch 9/10\n",
            "672/672 [==============================] - 12s 18ms/step - loss: 0.4457 - accuracy: 0.7891 - val_loss: 0.4772 - val_accuracy: 0.7658\n",
            "Epoch 10/10\n",
            "672/672 [==============================] - 12s 18ms/step - loss: 0.4393 - accuracy: 0.7926 - val_loss: 0.4611 - val_accuracy: 0.7783\n"
          ],
          "name": "stdout"
        },
        {
          "output_type": "display_data",
          "data": {
            "image/png": "[encoded data removed]",
            "text/plain": [
              "<Figure size 432x288 with 1 Axes>"
            ]
          },
          "metadata": {
            "tags": [],
            "needs_background": "light"
          }
        }
      ]
    },
    {
      "cell_type": "code",
      "metadata": {
        "colab": {
          "base_uri": "https://localhost:8080/"
        },
        "id": "3L_vmklMVf29",
        "outputId": "6b5e872c-3759-4503-dceb-a57b936f53af"
      },
      "source": [
        "checkpoint = keras.callbacks.ModelCheckpoint(\n",
        "\"xception_v1_{epoch:02d}_{val_accuracy:.3f}.h5\", \n",
        "save_best_only=True, \n",
        "monitor=\"val_accuracy\" \n",
        ")\n",
        "num_epochs = 30\n",
        "model = make_model(learning_rate=0.001, size=10)\n",
        "history_001_10 = model.fit(training_padded, training_labels, epochs=num_epochs, validation_data=(testing_padded, testing_labels), \n",
        "                            callbacks=[checkpoint])\n",
        "\n"
      ],
      "execution_count": null,
      "outputs": [
        {
          "output_type": "stream",
          "text": [
            "Epoch 1/30\n",
            "672/672 [==============================] - 17s 19ms/step - loss: 0.5862 - accuracy: 0.6906 - val_loss: 0.5413 - val_accuracy: 0.7270\n",
            "Epoch 2/30\n",
            "672/672 [==============================] - 13s 19ms/step - loss: 0.5271 - accuracy: 0.7382 - val_loss: 0.5117 - val_accuracy: 0.7449\n",
            "Epoch 3/30\n",
            "672/672 [==============================] - 13s 19ms/step - loss: 0.4997 - accuracy: 0.7569 - val_loss: 0.4991 - val_accuracy: 0.7541\n",
            "Epoch 4/30\n",
            "672/672 [==============================] - 12s 18ms/step - loss: 0.4868 - accuracy: 0.7656 - val_loss: 0.4974 - val_accuracy: 0.7525\n",
            "Epoch 5/30\n",
            "672/672 [==============================] - 12s 18ms/step - loss: 0.4733 - accuracy: 0.7717 - val_loss: 0.4848 - val_accuracy: 0.7629\n",
            "Epoch 6/30\n",
            "672/672 [==============================] - 12s 18ms/step - loss: 0.4620 - accuracy: 0.7785 - val_loss: 0.4696 - val_accuracy: 0.7700\n",
            "Epoch 7/30\n",
            "672/672 [==============================] - 12s 18ms/step - loss: 0.4530 - accuracy: 0.7853 - val_loss: 0.4643 - val_accuracy: 0.7754\n",
            "Epoch 8/30\n",
            "672/672 [==============================] - 13s 19ms/step - loss: 0.4459 - accuracy: 0.7892 - val_loss: 0.4637 - val_accuracy: 0.7756\n",
            "Epoch 9/30\n",
            "672/672 [==============================] - 12s 19ms/step - loss: 0.4394 - accuracy: 0.7940 - val_loss: 0.4633 - val_accuracy: 0.7756\n",
            "Epoch 10/30\n",
            "672/672 [==============================] - 12s 18ms/step - loss: 0.4357 - accuracy: 0.7958 - val_loss: 0.4713 - val_accuracy: 0.7744\n",
            "Epoch 11/30\n",
            "672/672 [==============================] - 12s 18ms/step - loss: 0.4285 - accuracy: 0.7994 - val_loss: 0.4613 - val_accuracy: 0.7754\n",
            "Epoch 12/30\n",
            "672/672 [==============================] - 13s 19ms/step - loss: 0.4206 - accuracy: 0.8044 - val_loss: 0.4539 - val_accuracy: 0.7731\n",
            "Epoch 13/30\n",
            "672/672 [==============================] - 13s 20ms/step - loss: 0.4220 - accuracy: 0.8053 - val_loss: 0.4585 - val_accuracy: 0.7765\n",
            "Epoch 14/30\n",
            "672/672 [==============================] - 13s 19ms/step - loss: 0.4124 - accuracy: 0.8105 - val_loss: 0.4583 - val_accuracy: 0.7790\n",
            "Epoch 15/30\n",
            "672/672 [==============================] - 13s 19ms/step - loss: 0.4094 - accuracy: 0.8123 - val_loss: 0.4628 - val_accuracy: 0.7783\n",
            "Epoch 16/30\n",
            "672/672 [==============================] - 13s 19ms/step - loss: 0.4068 - accuracy: 0.8143 - val_loss: 0.4569 - val_accuracy: 0.7798\n",
            "Epoch 17/30\n",
            "672/672 [==============================] - 12s 19ms/step - loss: 0.4040 - accuracy: 0.8138 - val_loss: 0.4583 - val_accuracy: 0.7777\n",
            "Epoch 18/30\n",
            "672/672 [==============================] - 12s 18ms/step - loss: 0.3981 - accuracy: 0.8167 - val_loss: 0.4512 - val_accuracy: 0.7785\n",
            "Epoch 19/30\n",
            "672/672 [==============================] - 12s 18ms/step - loss: 0.3916 - accuracy: 0.8185 - val_loss: 0.4519 - val_accuracy: 0.7810\n",
            "Epoch 20/30\n",
            "672/672 [==============================] - 12s 18ms/step - loss: 0.3910 - accuracy: 0.8225 - val_loss: 0.4517 - val_accuracy: 0.7859\n",
            "Epoch 21/30\n",
            "672/672 [==============================] - 13s 20ms/step - loss: 0.3875 - accuracy: 0.8245 - val_loss: 0.4522 - val_accuracy: 0.7858\n",
            "Epoch 22/30\n",
            "672/672 [==============================] - 13s 19ms/step - loss: 0.3825 - accuracy: 0.8265 - val_loss: 0.4576 - val_accuracy: 0.7823\n",
            "Epoch 23/30\n",
            "672/672 [==============================] - 12s 18ms/step - loss: 0.3821 - accuracy: 0.8270 - val_loss: 0.4791 - val_accuracy: 0.7756\n",
            "Epoch 24/30\n",
            "672/672 [==============================] - 12s 18ms/step - loss: 0.3767 - accuracy: 0.8266 - val_loss: 0.4503 - val_accuracy: 0.7854\n",
            "Epoch 25/30\n",
            "672/672 [==============================] - 12s 18ms/step - loss: 0.3771 - accuracy: 0.8296 - val_loss: 0.4569 - val_accuracy: 0.7871\n",
            "Epoch 26/30\n",
            "672/672 [==============================] - 13s 19ms/step - loss: 0.3678 - accuracy: 0.8328 - val_loss: 0.4588 - val_accuracy: 0.7859\n",
            "Epoch 27/30\n",
            "672/672 [==============================] - 13s 19ms/step - loss: 0.3644 - accuracy: 0.8362 - val_loss: 0.4585 - val_accuracy: 0.7925\n",
            "Epoch 28/30\n",
            "672/672 [==============================] - 12s 18ms/step - loss: 0.3632 - accuracy: 0.8331 - val_loss: 0.4621 - val_accuracy: 0.7869\n",
            "Epoch 29/30\n",
            "672/672 [==============================] - 12s 18ms/step - loss: 0.3627 - accuracy: 0.8367 - val_loss: 0.4559 - val_accuracy: 0.7900\n",
            "Epoch 30/30\n",
            "672/672 [==============================] - 12s 18ms/step - loss: 0.3592 - accuracy: 0.8379 - val_loss: 0.4572 - val_accuracy: 0.7929\n"
          ],
          "name": "stdout"
        }
      ]
    },
    {
      "cell_type": "code",
      "metadata": {
        "id": "DlNG_FXGijOn",
        "colab": {
          "base_uri": "https://localhost:8080/",
          "height": 237
        },
        "outputId": "7b66d77d-d39b-40f0-dc2f-db4903ce130f"
      },
      "source": [
        "test_sentences = [\n",
        "\n",
        "\"Study finds vaccine hesitancy lower in poorer countries\"\n",
        "\"Google wants people in office, despite productivity gains at home\"\n",
        "\"Belief In Conspiracy Theories Is Associated With Lower Levels Of Critical Thinking\"\n",
        "\n",
        "\n",
        "\"Nobel Prize-winning fighter pilot with PhD almost meets requirements for entry level job\"\n",
        "\"Struggling Tech Start-up Almost Desperate Enough To Start Making Actual Product\"\n",
        "\"Tide Introduces New Ink Pen For Creating Stains On The Go\"\n",
        "\n",
        "\n",
        "]\n",
        "\n",
        "sequences = tokenizer.texts_to_sequences(test_sentences)\n",
        "test_pad = pad_sequences(sequences, maxlen=max_length,padding=padding_type, truncating=trunc_type)\n",
        "print(model.predict(test_pad))"
      ],
      "execution_count": null,
      "outputs": [
        {
          "output_type": "error",
          "ename": "NameError",
          "evalue": "ignored",
          "traceback": [
            "\u001b[0;31m---------------------------------------------------------------------------\u001b[0m",
            "\u001b[0;31mNameError\u001b[0m                                 Traceback (most recent call last)",
            "\u001b[0;32m<ipython-input-1-fe29f64ab9a1>\u001b[0m in \u001b[0;36m<module>\u001b[0;34m()\u001b[0m\n\u001b[1;32m     13\u001b[0m ]\n\u001b[1;32m     14\u001b[0m \u001b[0;34m\u001b[0m\u001b[0m\n\u001b[0;32m---> 15\u001b[0;31m \u001b[0msequences\u001b[0m \u001b[0;34m=\u001b[0m \u001b[0mtokenizer\u001b[0m\u001b[0;34m.\u001b[0m\u001b[0mtexts_to_sequences\u001b[0m\u001b[0;34m(\u001b[0m\u001b[0mtest_sentences\u001b[0m\u001b[0;34m)\u001b[0m\u001b[0;34m\u001b[0m\u001b[0;34m\u001b[0m\u001b[0m\n\u001b[0m\u001b[1;32m     16\u001b[0m \u001b[0mtest_pad\u001b[0m \u001b[0;34m=\u001b[0m \u001b[0mpad_sequences\u001b[0m\u001b[0;34m(\u001b[0m\u001b[0msequences\u001b[0m\u001b[0;34m,\u001b[0m \u001b[0mmaxlen\u001b[0m\u001b[0;34m=\u001b[0m\u001b[0mmax_length\u001b[0m\u001b[0;34m,\u001b[0m\u001b[0mpadding\u001b[0m\u001b[0;34m=\u001b[0m\u001b[0mpadding_type\u001b[0m\u001b[0;34m,\u001b[0m \u001b[0mtruncating\u001b[0m\u001b[0;34m=\u001b[0m\u001b[0mtrunc_type\u001b[0m\u001b[0;34m)\u001b[0m\u001b[0;34m\u001b[0m\u001b[0;34m\u001b[0m\u001b[0m\n\u001b[1;32m     17\u001b[0m \u001b[0mprint\u001b[0m\u001b[0;34m(\u001b[0m\u001b[0mmodel\u001b[0m\u001b[0;34m.\u001b[0m\u001b[0mpredict\u001b[0m\u001b[0;34m(\u001b[0m\u001b[0mtest_pad\u001b[0m\u001b[0;34m)\u001b[0m\u001b[0;34m)\u001b[0m\u001b[0;34m\u001b[0m\u001b[0;34m\u001b[0m\u001b[0m\n",
            "\u001b[0;31mNameError\u001b[0m: name 'tokenizer' is not defined"
          ]
        }
      ]
    }
  ]
}