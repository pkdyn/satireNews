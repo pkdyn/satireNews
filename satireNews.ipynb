{
  "nbformat": 4,
  "nbformat_minor": 0,
  "metadata": {
    "colab": {
      "name": "satireNews.ipynb",
      "provenance": [],
      "collapsed_sections": [],
      "include_colab_link": true
    },
    "kernelspec": {
      "name": "python3",
      "display_name": "Python 3"
    },
    "language_info": {
      "name": "python"
    },
    "accelerator": "GPU"
  },
  "cells": [
    {
      "cell_type": "markdown",
      "metadata": {
        "id": "view-in-github",
        "colab_type": "text"
      },
      "source": [
        "<a href=\"https://colab.research.google.com/github/pkdyn/satireNews/blob/main/satireNews.ipynb\" target=\"_parent\"><img src=\"https://colab.research.google.com/assets/colab-badge.svg\" alt=\"Open In Colab\"/></a>"
      ]
    },
    {
      "cell_type": "code",
      "metadata": {
        "id": "nqVbChzh_23_"
      },
      "source": [
        "import tensorflow as tf\n",
        "from tensorflow import keras\n",
        "from tensorflow.keras.preprocessing.text import Tokenizer\n",
        "from tensorflow.keras.preprocessing.sequence import pad_sequences"
      ],
      "execution_count": 1,
      "outputs": []
    },
    {
      "cell_type": "code",
      "metadata": {
        "id": "f2y9k7AMK_ci"
      },
      "source": [
        "from bs4 import BeautifulSoup\n",
        "import string\n",
        "\n",
        "stopwords = [\"a\", \"about\", \"above\", \"after\",\"afterwards\", \"again\", \"against\",\n",
        "             \"all\", \"am\", \"an\", \"and\", \"any\", \"are\", \"as\", \"at\",\"almost\",\n",
        "             \"along\",\"already\",\"although\", \"among\", \"amongst\", \"always\",\n",
        "             \"another\", \"anyhow\",\"anyone\",\"anything\",\"anyway\",\"anywhere\", \n",
        "             \"be\", \"because\", \"been\", \"before\", \"being\", \"below\",\"beforehand\", \"beside\", \"besides\",\n",
        "             \"between\", \"both\", \"but\", \"by\", \"could\", \"did\", \"do\",\"couldnt\",\n",
        "             \"does\", \"doing\", \"during\", \"each\", \"few\", \"for\",\"done\",\"detail\",\"even\",\"get\",\"go\",\"goes\", \n",
        "             \"from\", \"further\", \"had\", \"has\", \"have\", \"having\",\"hasnt\",\"hence\",\n",
        "             \"he\", \"hed\", \"hes\", \"her\", \"here\", \"heres\", \"hers\",\"hereafter\",\"hereby\",\"herein\",\"hereupon\",\n",
        "             \"herself\", \"him\", \"himself\", \"his\", \"how\",\"hows\", \"i\", \"id\",\"however\",\n",
        "             \"ill\", \"im\", \"ive\", \"if\", \"in\", \"into\",\"is\", \"it\", \"its\",\"ie\",\"inc\",\"indeed\",\n",
        "             \"itself\",\"lets\", \"me\", \"more\", \"most\", \"my\",\"myself\", \"nor\",\"ltd\",\"less\",\"many\",\"may\",\"must\",\n",
        "              \"meanwhile\",\"might\",\"mine\",\"namely\",\"neither\",\"nevertheless\",\"now\",\"maybe\",\n",
        "             \"of\", \"on\", \"once\", \"only\", \"or\", \"other\", \"ought\",\"off\",\"often\",\"others\",\"otherwise\",\n",
        "             \"our\", \"ours\", \"ourselves\", \"out\", \"over\", \"own\", \"same\", \"she\",\"perhaps\",\"please\",\"per\",\"seem\",\"seems\",\"seemed\",\"seeming\",\n",
        "             \"shed\", \"shell\", \"shes\", \"should\",\"since\", \"so\", \"some\", \"such\", \"than\",\"rather\",\"several\",\"serious\",\"show\",\"shows\",\n",
        "             \"that\", \"thats\", \"the\", \"their\", \"theirs\", \"them\", \"themselves\",\"somehow\",\"sometimes\",\"still\",\n",
        "             \"then\",\"there\", \"theres\", \"these\", \"they\", \"theyd\", \"theyll\",\"thereafter\",\"thereby\",\"therefore\",\"therein\",\n",
        "             \"theyre\",\"theyve\", \"this\", \"those\", \"though\",\"to\", \"too\",\"through\",\"throughout\",\"thru\",\"thus\",\"together\",\n",
        "             \"under\", \"until\",\"up\", \"very\", \"was\", \"we\", \"wed\", \"well\",\n",
        "             \"were\", \"weve\", \"were\",\"what\", \"whats\", \"when\", \"whens\", \"where\",\n",
        "             \"whereas\",\"whereby\",\"whereupon\",\"whether\",\"whoever\",\"whose\",\"will\"\n",
        "             \"wheres\", \"which\", \"while\",\"who\", \"whos\", \"whom\", \"why\",\"whys\",\n",
        "             \"with\", \"would\", \"you\", \"youd\",\"youll\", \"youre\", \"youve\", \"your\",\"yet\",\n",
        "             \"yours\", \"yourself\",\"yourselves\"]\n",
        "\n",
        "table = str.maketrans('', '', string.punctuation)"
      ],
      "execution_count": 2,
      "outputs": []
    },
    {
      "cell_type": "code",
      "metadata": {
        "colab": {
          "base_uri": "https://localhost:8080/"
        },
        "id": "WyyCZEjOmJ06",
        "outputId": "7771cbc8-56df-44eb-d96f-4005cb51fc5e"
      },
      "source": [
        "!wget --no-check-certificate \\\n",
        "    https://storage.googleapis.com/laurencemoroney-blog.appspot.com/glove.zip\\\n",
        "    -O /tmp/glove.zip\n"
      ],
      "execution_count": 3,
      "outputs": [
        {
          "output_type": "stream",
          "text": [
            "--2021-07-19 17:16:55--  https://storage.googleapis.com/laurencemoroney-blog.appspot.com/glove.zip\n",
            "Resolving storage.googleapis.com (storage.googleapis.com)... 74.125.142.128, 74.125.195.128, 172.253.117.128, ...\n",
            "Connecting to storage.googleapis.com (storage.googleapis.com)|74.125.142.128|:443... connected.\n",
            "HTTP request sent, awaiting response... 200 OK\n",
            "Length: 112372936 (107M) [application/zip]\n",
            "Saving to: ‘/tmp/glove.zip’\n",
            "\n",
            "/tmp/glove.zip      100%[===================>] 107.17M   177MB/s    in 0.6s    \n",
            "\n",
            "2021-07-19 17:16:56 (177 MB/s) - ‘/tmp/glove.zip’ saved [112372936/112372936]\n",
            "\n"
          ],
          "name": "stdout"
        }
      ]
    },
    {
      "cell_type": "code",
      "metadata": {
        "id": "F92BlFFwTIs-"
      },
      "source": [
        "\n",
        "import numpy as np\n",
        "import os\n",
        "import zipfile\n",
        "\n",
        "local_zip = '/tmp/glove.zip'\n",
        "zip_ref = zipfile.ZipFile(local_zip, 'r')\n",
        "zip_ref.extractall('/tmp/glove')\n",
        "zip_ref.close()\n",
        "\n",
        "glove_embeddings = dict()\n",
        "f = open('/tmp/glove/glove.twitter.27B.25d.txt')\n",
        "for line in f:\n",
        "    values = line.split()\n",
        "    word = values[0]\n",
        "    coefs = np.asarray(values[1:], dtype='float32')\n",
        "    glove_embeddings[word] = coefs\n",
        "f.close()"
      ],
      "execution_count": 4,
      "outputs": []
    },
    {
      "cell_type": "code",
      "metadata": {
        "colab": {
          "base_uri": "https://localhost:8080/"
        },
        "id": "ZnMFIzkzo03H",
        "outputId": "d0c2105b-d6c3-4017-8ec8-3601d1e6d62a"
      },
      "source": [
        "print('Loaded %s word vectors.' % len(glove_embeddings))"
      ],
      "execution_count": 5,
      "outputs": [
        {
          "output_type": "stream",
          "text": [
            "Loaded 1193514 word vectors.\n"
          ],
          "name": "stdout"
        }
      ]
    },
    {
      "cell_type": "code",
      "metadata": {
        "id": "mxp0HBhQAAW6",
        "colab": {
          "base_uri": "https://localhost:8080/"
        },
        "outputId": "876cb752-71ec-4b8f-a4e0-e128367d1300"
      },
      "source": [
        "!wget --no-check-certificate \\\n",
        "    https://storage.googleapis.com/laurencemoroney-blog.appspot.com/sarcasm.json \\\n",
        "    -O /tmp/sarcasm.json\n",
        "  \n",
        "import json\n",
        "with open(\"/tmp/sarcasm.json\", 'r') as f:\n",
        "    datastore = json.load(f)\n",
        "\n",
        "sentences = [] \n",
        "labels = []\n",
        "urls = []\n",
        "\n",
        "for item in datastore:\n",
        "    sentence = item['headline'].lower()\n",
        "    sentence = sentence.replace(\",\", \" , \")\n",
        "    sentence = sentence.replace(\".\", \" . \")\n",
        "    sentence = sentence.replace(\"-\", \" - \")\n",
        "    sentence = sentence.replace(\"/\", \" / \")\n",
        "    soup = BeautifulSoup(sentence)\n",
        "    sentence = soup.get_text()\n",
        "    words = sentence.split()\n",
        "    filtered_sentence = \"\"\n",
        "    for word in words:\n",
        "        word = word.translate(table)\n",
        "        if word not in stopwords:\n",
        "            filtered_sentence = filtered_sentence + word + \" \"\n",
        "    sentences.append(filtered_sentence)\n",
        "    labels.append(item['is_sarcastic'])\n",
        "    urls.append(item['article_link'])\n",
        "\n",
        "print(len(sentences))"
      ],
      "execution_count": 6,
      "outputs": [
        {
          "output_type": "stream",
          "text": [
            "--2021-07-19 17:17:25--  https://storage.googleapis.com/laurencemoroney-blog.appspot.com/sarcasm.json\n",
            "Resolving storage.googleapis.com (storage.googleapis.com)... 74.125.20.128, 74.125.197.128, 74.125.135.128, ...\n",
            "Connecting to storage.googleapis.com (storage.googleapis.com)|74.125.20.128|:443... connected.\n",
            "HTTP request sent, awaiting response... 200 OK\n",
            "Length: 5643545 (5.4M) [application/json]\n",
            "Saving to: ‘/tmp/sarcasm.json’\n",
            "\n",
            "\r/tmp/sarcasm.json     0%[                    ]       0  --.-KB/s               \r/tmp/sarcasm.json   100%[===================>]   5.38M  --.-KB/s    in 0.02s   \n",
            "\n",
            "2021-07-19 17:17:25 (243 MB/s) - ‘/tmp/sarcasm.json’ saved [5643545/5643545]\n",
            "\n",
            "26709\n"
          ],
          "name": "stdout"
        }
      ]
    },
    {
      "cell_type": "code",
      "metadata": {
        "colab": {
          "base_uri": "https://localhost:8080/",
          "height": 265
        },
        "id": "iUoAmWiPHsYK",
        "outputId": "1665bc9c-4ec5-4df9-eec3-c056c36ecf2c"
      },
      "source": [
        "xs=[]\n",
        "ys=[]\n",
        "current_item=1\n",
        "for item in sentences:\n",
        "  xs.append(current_item)\n",
        "  current_item=current_item+1\n",
        "  ys.append(len(item))\n",
        "newys = sorted(ys)\n",
        "import matplotlib.pyplot as plt\n",
        "plt.plot(xs,newys)\n",
        "plt.show()"
      ],
      "execution_count": 7,
      "outputs": [
        {
          "output_type": "display_data",
          "data": {
            "image/png": "[encoded data removed]",
            "text/plain": [
              "<Figure size 432x288 with 1 Axes>"
            ]
          },
          "metadata": {
            "tags": [],
            "needs_background": "light"
          }
        }
      ]
    },
    {
      "cell_type": "code",
      "metadata": {
        "id": "Z8dTLSxaMduG"
      },
      "source": [
        "vocab_size = 12500\n",
        "embedding_dim = 25\n",
        "max_length = 85\n",
        "trunc_type='post'\n",
        "padding_type='post'\n",
        "oov_tok = \"<OOV>\"\n",
        "training_size = 21500\n",
        "\n",
        "training_sentences = sentences[0:training_size]\n",
        "testing_sentences = sentences[training_size:]\n",
        "training_labels = labels[0:training_size]\n",
        "testing_labels = labels[training_size:]\n",
        "\n",
        "tokenizer = Tokenizer(num_words=vocab_size, oov_token=oov_tok)\n",
        "tokenizer.fit_on_texts(training_sentences)\n",
        "\n",
        "word_index = tokenizer.word_index\n",
        "\n",
        "training_sequences = tokenizer.texts_to_sequences(training_sentences)\n",
        "training_padded = pad_sequences(training_sequences, maxlen=max_length, padding=padding_type, truncating=trunc_type)\n",
        "testing_sequences = tokenizer.texts_to_sequences(testing_sentences)\n",
        "testing_padded = pad_sequences(testing_sequences, maxlen=max_length, padding=padding_type, truncating=trunc_type)"
      ],
      "execution_count": 9,
      "outputs": []
    },
    {
      "cell_type": "code",
      "metadata": {
        "colab": {
          "base_uri": "https://localhost:8080/",
          "height": 286
        },
        "id": "Ql1JhGR3LWsn",
        "outputId": "b552291a-59f7-49ee-f4be-1322cd44d4a3"
      },
      "source": [
        "xs=[]\n",
        "ys=[]\n",
        "cumulative_x=[]\n",
        "cumulative_y=[]\n",
        "total_y=0\n",
        "for word, index in tokenizer.word_index.items():\n",
        "  xs.append(index)\n",
        "  cumulative_x.append(index)\n",
        "  if glove_embeddings.get(word) is not None:\n",
        "    total_y = total_y + 1\n",
        "    ys.append(1)\n",
        "  else:\n",
        "    ys.append(0)\n",
        "  cumulative_y.append(total_y / index)\n",
        "\n",
        "import matplotlib.pyplot as plt\n",
        "#fig, ax = plt.subplots(figsize=(12,2))\n",
        "#ax.spines['top'].set_visible(False)\n",
        "\n",
        "plt.plot(cumulative_x, cumulative_y)\n",
        "plt.axis([12000, 14000, 0.8, 1])\n",
        "#plt.margins(x=0, y=None, tight=True)\n",
        "#plt.axis([0, 26000, 0, 1])\n",
        "#plt.fill(ys)"
      ],
      "execution_count": 10,
      "outputs": [
        {
          "output_type": "execute_result",
          "data": {
            "text/plain": [
              "(12000.0, 14000.0, 0.8, 1.0)"
            ]
          },
          "metadata": {
            "tags": []
          },
          "execution_count": 10
        },
        {
          "output_type": "display_data",
          "data": {
            "image/png": "[encoded data removed]",
            "text/plain": [
              "<Figure size 432x288 with 1 Axes>"
            ]
          },
          "metadata": {
            "tags": [],
            "needs_background": "light"
          }
        }
      ]
    },
    {
      "cell_type": "code",
      "metadata": {
        "id": "7RCzHEHHpvd2"
      },
      "source": [
        "embedding_matrix = np.zeros((vocab_size, embedding_dim))\n",
        "for word, index in tokenizer.word_index.items():\n",
        "    if index > vocab_size - 1:\n",
        "        break\n",
        "    else:\n",
        "        embedding_vector = glove_embeddings.get(word)\n",
        "        if embedding_vector is not None:\n",
        "            embedding_matrix[index] = embedding_vector"
      ],
      "execution_count": 11,
      "outputs": []
    },
    {
      "cell_type": "code",
      "metadata": {
        "id": "UjX0PVcdqZXR"
      },
      "source": [
        "import numpy as np\n",
        "training_padded = np.array(training_padded)\n",
        "training_labels = np.array(training_labels)\n",
        "testing_padded = np.array(testing_padded)\n",
        "testing_labels = np.array(testing_labels)"
      ],
      "execution_count": 12,
      "outputs": []
    },
    {
      "cell_type": "code",
      "metadata": {
        "id": "XLd9xqWSqd01"
      },
      "source": [
        "def make_model(learning_rate=0.001, size=24):\n",
        "  model = tf.keras.Sequential([\n",
        "      tf.keras.layers.Embedding(vocab_size, embedding_dim, weights=[embedding_matrix], trainable=False),\n",
        "      tf.keras.layers.Bidirectional(tf.keras.layers.LSTM(embedding_dim, return_sequences=True, dropout=0.15) ),\n",
        "      tf.keras.layers.Bidirectional(tf.keras.layers.LSTM(embedding_dim, dropout=0.15)),\n",
        "      tf.keras.layers.Dense(size, activation='relu'),\n",
        "      tf.keras.layers.Dense(1, activation='sigmoid')\n",
        "  ])\n",
        "  adam = tf.keras.optimizers.Adam(learning_rate)\n",
        "  model.compile(loss='binary_crossentropy',optimizer=adam, metrics=['accuracy'])\n",
        "  return model\n"
      ],
      "execution_count": 14,
      "outputs": []
    },
    {
      "cell_type": "code",
      "metadata": {
        "id": "sPhV2Erjq0kW",
        "colab": {
          "base_uri": "https://localhost:8080/",
          "height": 646
        },
        "outputId": "1f5713d9-e48c-4526-8b99-a9dbe6db782f"
      },
      "source": [
        "num_epochs = 5\n",
        "model = make_model(learning_rate=0.001)\n",
        "history_001 = model.fit(training_padded, training_labels, epochs=num_epochs, validation_data=(testing_padded, testing_labels))\n",
        "model = make_model(learning_rate=0.0001)\n",
        "history_0001 = model.fit(training_padded, training_labels, epochs=num_epochs, validation_data=(testing_padded, testing_labels))\n",
        "epochs = np.arange(5)\n",
        "val_001 = history_001.history['val_accuracy']\n",
        "val_0001 = history_0001.history['val_accuracy']\n",
        "plt.figure(figsize=(6, 4))\n",
        "plt.plot(epochs, val_001, color='green', linestyle='solid', label='0.001')\n",
        "plt.plot(epochs, val_0001, color='blue', linestyle='solid', label='0.0001')\n",
        "plt.title('Accuracy vs Epoch ')\n",
        "plt.xlabel('Epoch')\n",
        "plt.ylabel('Accuracy')\n",
        "plt.xticks(epochs)\n",
        "plt.legend()\n",
        "plt.show()"
      ],
      "execution_count": 15,
      "outputs": [
        {
          "output_type": "stream",
          "text": [
            "Epoch 1/5\n",
            "672/672 [==============================] - 25s 21ms/step - loss: 0.5808 - accuracy: 0.6962 - val_loss: 0.5451 - val_accuracy: 0.7245\n",
            "Epoch 2/5\n",
            "672/672 [==============================] - 12s 18ms/step - loss: 0.5185 - accuracy: 0.7457 - val_loss: 0.5476 - val_accuracy: 0.7189\n",
            "Epoch 3/5\n",
            "672/672 [==============================] - 13s 19ms/step - loss: 0.4989 - accuracy: 0.7576 - val_loss: 0.4909 - val_accuracy: 0.7585\n",
            "Epoch 4/5\n",
            "672/672 [==============================] - 13s 20ms/step - loss: 0.4861 - accuracy: 0.7624 - val_loss: 0.4863 - val_accuracy: 0.7618\n",
            "Epoch 5/5\n",
            "672/672 [==============================] - 14s 20ms/step - loss: 0.4750 - accuracy: 0.7743 - val_loss: 0.4830 - val_accuracy: 0.7573\n",
            "Epoch 1/5\n",
            "672/672 [==============================] - 20s 23ms/step - loss: 0.6515 - accuracy: 0.6178 - val_loss: 0.6049 - val_accuracy: 0.6758\n",
            "Epoch 2/5\n",
            "672/672 [==============================] - 14s 20ms/step - loss: 0.5950 - accuracy: 0.6862 - val_loss: 0.5847 - val_accuracy: 0.6957\n",
            "Epoch 3/5\n",
            "672/672 [==============================] - 13s 20ms/step - loss: 0.5781 - accuracy: 0.7007 - val_loss: 0.5706 - val_accuracy: 0.7024\n",
            "Epoch 4/5\n",
            "672/672 [==============================] - 14s 20ms/step - loss: 0.5686 - accuracy: 0.7055 - val_loss: 0.5583 - val_accuracy: 0.7132\n",
            "Epoch 5/5\n",
            "672/672 [==============================] - 13s 19ms/step - loss: 0.5600 - accuracy: 0.7157 - val_loss: 0.5502 - val_accuracy: 0.7201\n"
          ],
          "name": "stdout"
        },
        {
          "output_type": "display_data",
          "data": {
            "image/png": "[encoded data removed]",
            "text/plain": [
              "<Figure size 432x288 with 1 Axes>"
            ]
          },
          "metadata": {
            "tags": [],
            "needs_background": "light"
          }
        }
      ]
    },
    {
      "cell_type": "code",
      "metadata": {
        "colab": {
          "base_uri": "https://localhost:8080/",
          "height": 1000
        },
        "id": "HIEAK9JsSNgC",
        "outputId": "744e8959-b02a-4dd3-cb3d-fed739589efb"
      },
      "source": [
        "num_epochs = 15\n",
        "model = make_model(learning_rate=0.001, size=5)\n",
        "history_001_5 = model.fit(training_padded, training_labels, epochs=num_epochs, validation_data=(testing_padded, testing_labels))\n",
        "model = make_model(learning_rate=0.001, size=10)\n",
        "history_001_10 = model.fit(training_padded, training_labels, epochs=num_epochs, validation_data=(testing_padded, testing_labels))\n",
        "model = make_model(learning_rate=0.001, size=15)\n",
        "history_001_15 = model.fit(training_padded, training_labels, epochs=num_epochs, validation_data=(testing_padded, testing_labels))\n",
        "epochs = np.arange(15)\n",
        "val_001_5 = history_001_5.history['val_accuracy']\n",
        "val_001_10= history_001_10.history['val_accuracy']\n",
        "val_001_15= history_001_15.history['val_accuracy']\n",
        "plt.figure(figsize=(6, 4))\n",
        "plt.plot(epochs, val_001_5, color='black', linestyle='solid', label='0.001, 5')\n",
        "plt.plot(epochs, val_001_10, color='red', linestyle='solid', label='0.001, 10')\n",
        "plt.plot(epochs, val_001_15, color='yellow', linestyle='solid', label='0.001, 15')\n",
        "plt.title('Accuracy vs Epoch ')\n",
        "plt.xlabel('Epoch')\n",
        "plt.ylabel('Accuracy')\n",
        "plt.xticks(epochs)\n",
        "plt.legend()\n",
        "plt.show()"
      ],
      "execution_count": 17,
      "outputs": [
        {
          "output_type": "stream",
          "text": [
            "Epoch 1/15\n",
            "672/672 [==============================] - 20s 22ms/step - loss: 0.5840 - accuracy: 0.6926 - val_loss: 0.5424 - val_accuracy: 0.7236\n",
            "Epoch 2/15\n",
            "672/672 [==============================] - 13s 20ms/step - loss: 0.5278 - accuracy: 0.7361 - val_loss: 0.5065 - val_accuracy: 0.7547\n",
            "Epoch 3/15\n",
            "672/672 [==============================] - 14s 20ms/step - loss: 0.5043 - accuracy: 0.7507 - val_loss: 0.4986 - val_accuracy: 0.7587\n",
            "Epoch 4/15\n",
            "672/672 [==============================] - 13s 20ms/step - loss: 0.4853 - accuracy: 0.7677 - val_loss: 0.4890 - val_accuracy: 0.7633\n",
            "Epoch 5/15\n",
            "672/672 [==============================] - 14s 20ms/step - loss: 0.4733 - accuracy: 0.7740 - val_loss: 0.4776 - val_accuracy: 0.7656\n",
            "Epoch 6/15\n",
            "672/672 [==============================] - 14s 20ms/step - loss: 0.4622 - accuracy: 0.7802 - val_loss: 0.4803 - val_accuracy: 0.7704\n",
            "Epoch 7/15\n",
            "672/672 [==============================] - 13s 20ms/step - loss: 0.4554 - accuracy: 0.7856 - val_loss: 0.4730 - val_accuracy: 0.7744\n",
            "Epoch 8/15\n",
            "672/672 [==============================] - 13s 20ms/step - loss: 0.4481 - accuracy: 0.7894 - val_loss: 0.4718 - val_accuracy: 0.7731\n",
            "Epoch 9/15\n",
            "672/672 [==============================] - 14s 20ms/step - loss: 0.4412 - accuracy: 0.7935 - val_loss: 0.4663 - val_accuracy: 0.7710\n",
            "Epoch 10/15\n",
            "672/672 [==============================] - 14s 20ms/step - loss: 0.4362 - accuracy: 0.7957 - val_loss: 0.4580 - val_accuracy: 0.7836\n",
            "Epoch 11/15\n",
            "672/672 [==============================] - 12s 18ms/step - loss: 0.4300 - accuracy: 0.7988 - val_loss: 0.4635 - val_accuracy: 0.7788\n",
            "Epoch 12/15\n",
            "672/672 [==============================] - 12s 18ms/step - loss: 0.4247 - accuracy: 0.8035 - val_loss: 0.4688 - val_accuracy: 0.7771\n",
            "Epoch 13/15\n",
            "672/672 [==============================] - 12s 18ms/step - loss: 0.4203 - accuracy: 0.8049 - val_loss: 0.4546 - val_accuracy: 0.7787\n",
            "Epoch 14/15\n",
            "672/672 [==============================] - 12s 18ms/step - loss: 0.4134 - accuracy: 0.8081 - val_loss: 0.4556 - val_accuracy: 0.7808\n",
            "Epoch 15/15\n",
            "672/672 [==============================] - 14s 20ms/step - loss: 0.4098 - accuracy: 0.8114 - val_loss: 0.4642 - val_accuracy: 0.7790\n",
            "Epoch 1/15\n",
            "672/672 [==============================] - 20s 22ms/step - loss: 0.5913 - accuracy: 0.6799 - val_loss: 0.5547 - val_accuracy: 0.7203\n",
            "Epoch 2/15\n",
            "672/672 [==============================] - 14s 20ms/step - loss: 0.5312 - accuracy: 0.7370 - val_loss: 0.5165 - val_accuracy: 0.7426\n",
            "Epoch 3/15\n",
            "672/672 [==============================] - 14s 20ms/step - loss: 0.5048 - accuracy: 0.7516 - val_loss: 0.5027 - val_accuracy: 0.7487\n",
            "Epoch 4/15\n",
            "672/672 [==============================] - 14s 20ms/step - loss: 0.4918 - accuracy: 0.7599 - val_loss: 0.4852 - val_accuracy: 0.7583\n",
            "Epoch 5/15\n",
            "672/672 [==============================] - 14s 20ms/step - loss: 0.4790 - accuracy: 0.7676 - val_loss: 0.4884 - val_accuracy: 0.7541\n",
            "Epoch 6/15\n",
            "672/672 [==============================] - 14s 20ms/step - loss: 0.4652 - accuracy: 0.7798 - val_loss: 0.4707 - val_accuracy: 0.7652\n",
            "Epoch 7/15\n",
            "672/672 [==============================] - 13s 20ms/step - loss: 0.4586 - accuracy: 0.7825 - val_loss: 0.4792 - val_accuracy: 0.7677\n",
            "Epoch 8/15\n",
            "672/672 [==============================] - 14s 20ms/step - loss: 0.4510 - accuracy: 0.7883 - val_loss: 0.4700 - val_accuracy: 0.7719\n",
            "Epoch 9/15\n",
            "672/672 [==============================] - 14s 20ms/step - loss: 0.4425 - accuracy: 0.7908 - val_loss: 0.4744 - val_accuracy: 0.7667\n",
            "Epoch 10/15\n",
            "672/672 [==============================] - 14s 20ms/step - loss: 0.4401 - accuracy: 0.7930 - val_loss: 0.4571 - val_accuracy: 0.7798\n",
            "Epoch 11/15\n",
            "672/672 [==============================] - 13s 20ms/step - loss: 0.4306 - accuracy: 0.7980 - val_loss: 0.4713 - val_accuracy: 0.7731\n",
            "Epoch 12/15\n",
            "672/672 [==============================] - 13s 20ms/step - loss: 0.4245 - accuracy: 0.8002 - val_loss: 0.4532 - val_accuracy: 0.7829\n",
            "Epoch 13/15\n",
            "672/672 [==============================] - 13s 19ms/step - loss: 0.4221 - accuracy: 0.8020 - val_loss: 0.4536 - val_accuracy: 0.7823\n",
            "Epoch 14/15\n",
            "672/672 [==============================] - 13s 19ms/step - loss: 0.4162 - accuracy: 0.8056 - val_loss: 0.4578 - val_accuracy: 0.7763\n",
            "Epoch 15/15\n",
            "672/672 [==============================] - 13s 19ms/step - loss: 0.4138 - accuracy: 0.8078 - val_loss: 0.4519 - val_accuracy: 0.7869\n",
            "Epoch 1/15\n",
            "672/672 [==============================] - 21s 22ms/step - loss: 0.5870 - accuracy: 0.6912 - val_loss: 0.5465 - val_accuracy: 0.7236\n",
            "Epoch 2/15\n",
            "672/672 [==============================] - 14s 21ms/step - loss: 0.5305 - accuracy: 0.7353 - val_loss: 0.5160 - val_accuracy: 0.7414\n",
            "Epoch 3/15\n",
            "672/672 [==============================] - 14s 20ms/step - loss: 0.5051 - accuracy: 0.7532 - val_loss: 0.4950 - val_accuracy: 0.7606\n",
            "Epoch 4/15\n",
            "672/672 [==============================] - 14s 20ms/step - loss: 0.4897 - accuracy: 0.7620 - val_loss: 0.4820 - val_accuracy: 0.7639\n",
            "Epoch 5/15\n",
            "672/672 [==============================] - 14s 20ms/step - loss: 0.4740 - accuracy: 0.7747 - val_loss: 0.4896 - val_accuracy: 0.7568\n",
            "Epoch 6/15\n",
            "672/672 [==============================] - 13s 19ms/step - loss: 0.4667 - accuracy: 0.7767 - val_loss: 0.4797 - val_accuracy: 0.7671\n",
            "Epoch 7/15\n",
            "672/672 [==============================] - 13s 19ms/step - loss: 0.4547 - accuracy: 0.7830 - val_loss: 0.4723 - val_accuracy: 0.7681\n",
            "Epoch 8/15\n",
            "672/672 [==============================] - 13s 19ms/step - loss: 0.4520 - accuracy: 0.7865 - val_loss: 0.4665 - val_accuracy: 0.7754\n",
            "Epoch 9/15\n",
            "672/672 [==============================] - 14s 20ms/step - loss: 0.4409 - accuracy: 0.7949 - val_loss: 0.4725 - val_accuracy: 0.7698\n",
            "Epoch 10/15\n",
            "672/672 [==============================] - 14s 21ms/step - loss: 0.4349 - accuracy: 0.7937 - val_loss: 0.4819 - val_accuracy: 0.7616\n",
            "Epoch 11/15\n",
            "672/672 [==============================] - 14s 21ms/step - loss: 0.4294 - accuracy: 0.8004 - val_loss: 0.4597 - val_accuracy: 0.7792\n",
            "Epoch 12/15\n",
            "672/672 [==============================] - 14s 21ms/step - loss: 0.4257 - accuracy: 0.8019 - val_loss: 0.4706 - val_accuracy: 0.7733\n",
            "Epoch 13/15\n",
            "672/672 [==============================] - 14s 20ms/step - loss: 0.4198 - accuracy: 0.8025 - val_loss: 0.4645 - val_accuracy: 0.7710\n",
            "Epoch 14/15\n",
            "672/672 [==============================] - 14s 20ms/step - loss: 0.4177 - accuracy: 0.8032 - val_loss: 0.4484 - val_accuracy: 0.7806\n",
            "Epoch 15/15\n",
            "672/672 [==============================] - 14s 21ms/step - loss: 0.4131 - accuracy: 0.8080 - val_loss: 0.4618 - val_accuracy: 0.7831\n"
          ],
          "name": "stdout"
        },
        {
          "output_type": "display_data",
          "data": {
            "image/png": "[encoded data removed]",
            "text/plain": [
              "<Figure size 432x288 with 1 Axes>"
            ]
          },
          "metadata": {
            "tags": [],
            "needs_background": "light"
          }
        }
      ]
    },
    {
      "cell_type": "code",
      "metadata": {
        "colab": {
          "base_uri": "https://localhost:8080/"
        },
        "id": "3L_vmklMVf29",
        "outputId": "783df8b8-1d9b-4dfc-deb5-dfdbc425ca5e"
      },
      "source": [
        "checkpoint = keras.callbacks.ModelCheckpoint(\n",
        "\"xception_v1_{epoch:02d}_{val_accuracy:.3f}.h5\", \n",
        "save_best_only=True, \n",
        "monitor=\"val_accuracy\" \n",
        ")\n",
        "num_epochs = 30\n",
        "model = make_model(learning_rate=0.001, size=5)\n",
        "history_001_10 = model.fit(training_padded, training_labels, epochs=num_epochs, validation_data=(testing_padded, testing_labels), \n",
        "                            callbacks=[checkpoint])\n",
        "\n"
      ],
      "execution_count": 18,
      "outputs": [
        {
          "output_type": "stream",
          "text": [
            "Epoch 1/30\n",
            "672/672 [==============================] - 20s 23ms/step - loss: 0.5793 - accuracy: 0.6993 - val_loss: 0.5367 - val_accuracy: 0.7285\n",
            "Epoch 2/30\n",
            "672/672 [==============================] - 13s 20ms/step - loss: 0.5245 - accuracy: 0.7424 - val_loss: 0.5124 - val_accuracy: 0.7445\n",
            "Epoch 3/30\n",
            "672/672 [==============================] - 13s 19ms/step - loss: 0.5043 - accuracy: 0.7553 - val_loss: 0.4961 - val_accuracy: 0.7541\n",
            "Epoch 4/30\n",
            "672/672 [==============================] - 12s 18ms/step - loss: 0.4878 - accuracy: 0.7620 - val_loss: 0.4906 - val_accuracy: 0.7602\n",
            "Epoch 5/30\n",
            "672/672 [==============================] - 12s 18ms/step - loss: 0.4751 - accuracy: 0.7718 - val_loss: 0.5036 - val_accuracy: 0.7558\n",
            "Epoch 6/30\n",
            "672/672 [==============================] - 12s 19ms/step - loss: 0.4671 - accuracy: 0.7772 - val_loss: 0.4693 - val_accuracy: 0.7758\n",
            "Epoch 7/30\n",
            "672/672 [==============================] - 14s 20ms/step - loss: 0.4598 - accuracy: 0.7828 - val_loss: 0.4802 - val_accuracy: 0.7652\n",
            "Epoch 8/30\n",
            "672/672 [==============================] - 14s 20ms/step - loss: 0.4498 - accuracy: 0.7870 - val_loss: 0.4619 - val_accuracy: 0.7746\n",
            "Epoch 9/30\n",
            "672/672 [==============================] - 14s 20ms/step - loss: 0.4401 - accuracy: 0.7923 - val_loss: 0.4607 - val_accuracy: 0.7767\n",
            "Epoch 10/30\n",
            "672/672 [==============================] - 14s 20ms/step - loss: 0.4317 - accuracy: 0.7967 - val_loss: 0.4616 - val_accuracy: 0.7790\n",
            "Epoch 11/30\n",
            "672/672 [==============================] - 14s 20ms/step - loss: 0.4298 - accuracy: 0.7987 - val_loss: 0.4644 - val_accuracy: 0.7767\n",
            "Epoch 12/30\n",
            "672/672 [==============================] - 14s 20ms/step - loss: 0.4234 - accuracy: 0.8026 - val_loss: 0.4529 - val_accuracy: 0.7825\n",
            "Epoch 13/30\n",
            "672/672 [==============================] - 14s 20ms/step - loss: 0.4201 - accuracy: 0.8036 - val_loss: 0.4537 - val_accuracy: 0.7825\n",
            "Epoch 14/30\n",
            "672/672 [==============================] - 14s 20ms/step - loss: 0.4162 - accuracy: 0.8093 - val_loss: 0.4503 - val_accuracy: 0.7811\n",
            "Epoch 15/30\n",
            "672/672 [==============================] - 14s 20ms/step - loss: 0.4125 - accuracy: 0.8088 - val_loss: 0.4510 - val_accuracy: 0.7859\n",
            "Epoch 16/30\n",
            "672/672 [==============================] - 14s 20ms/step - loss: 0.4052 - accuracy: 0.8131 - val_loss: 0.4691 - val_accuracy: 0.7767\n",
            "Epoch 17/30\n",
            "672/672 [==============================] - 14s 20ms/step - loss: 0.4034 - accuracy: 0.8146 - val_loss: 0.4533 - val_accuracy: 0.7898\n",
            "Epoch 18/30\n",
            "672/672 [==============================] - 13s 20ms/step - loss: 0.3974 - accuracy: 0.8177 - val_loss: 0.4517 - val_accuracy: 0.7858\n",
            "Epoch 19/30\n",
            "672/672 [==============================] - 13s 19ms/step - loss: 0.3951 - accuracy: 0.8183 - val_loss: 0.4497 - val_accuracy: 0.7884\n",
            "Epoch 20/30\n",
            "672/672 [==============================] - 13s 20ms/step - loss: 0.3900 - accuracy: 0.8206 - val_loss: 0.4461 - val_accuracy: 0.7906\n",
            "Epoch 21/30\n",
            "672/672 [==============================] - 13s 19ms/step - loss: 0.3861 - accuracy: 0.8236 - val_loss: 0.4489 - val_accuracy: 0.7892\n",
            "Epoch 22/30\n",
            "672/672 [==============================] - 12s 18ms/step - loss: 0.3835 - accuracy: 0.8264 - val_loss: 0.4607 - val_accuracy: 0.7867\n",
            "Epoch 23/30\n",
            "672/672 [==============================] - 13s 19ms/step - loss: 0.3746 - accuracy: 0.8313 - val_loss: 0.4674 - val_accuracy: 0.7810\n",
            "Epoch 24/30\n",
            "672/672 [==============================] - 14s 20ms/step - loss: 0.3777 - accuracy: 0.8298 - val_loss: 0.4619 - val_accuracy: 0.7848\n",
            "Epoch 25/30\n",
            "672/672 [==============================] - 14s 20ms/step - loss: 0.3708 - accuracy: 0.8298 - val_loss: 0.4599 - val_accuracy: 0.7844\n",
            "Epoch 26/30\n",
            "672/672 [==============================] - 14s 20ms/step - loss: 0.3696 - accuracy: 0.8342 - val_loss: 0.4524 - val_accuracy: 0.7858\n",
            "Epoch 27/30\n",
            "672/672 [==============================] - 14s 20ms/step - loss: 0.3652 - accuracy: 0.8354 - val_loss: 0.4577 - val_accuracy: 0.7904\n",
            "Epoch 28/30\n",
            "672/672 [==============================] - 14s 20ms/step - loss: 0.3622 - accuracy: 0.8378 - val_loss: 0.4587 - val_accuracy: 0.7869\n",
            "Epoch 29/30\n",
            "672/672 [==============================] - 14s 20ms/step - loss: 0.3602 - accuracy: 0.8356 - val_loss: 0.4603 - val_accuracy: 0.7865\n",
            "Epoch 30/30\n",
            "672/672 [==============================] - 14s 21ms/step - loss: 0.3606 - accuracy: 0.8364 - val_loss: 0.4646 - val_accuracy: 0.7861\n"
          ],
          "name": "stdout"
        }
      ]
    },
    {
      "cell_type": "code",
      "metadata": {
        "id": "DlNG_FXGijOn",
        "colab": {
          "base_uri": "https://localhost:8080/"
        },
        "outputId": "0fd87807-851b-401d-f9e7-0e7c77f4324e"
      },
      "source": [
        "test_sentences = [\n",
        "\"NFT conversations growing in India: Twitter\", \n",
        "\"After conquering Earth, Bezos eyes new frontier in space\", \n",
        "\"Google wants people in office, despite productivity gains at home\",\n",
        "\"Indian Navy ship exercises with French Navy\", \n",
        "\"Microsoft Exchange email hack was caused by China, US says\", \n",
        "\"Russia test fires Zircon hypersonic cruise missile\", \n",
        "\n",
        "\"Nobel Prize-winning fighter pilot with PhD almost meets requirements for entry level job\", \n",
        "\"Struggling Tech Start-up Almost Desperate Enough To Start Making Actual Product\", \n",
        "\"Jeff Bezos to step down in five to ten days, or overnight with Prime\",  \n",
        "\"Serbia Deploys Peacekeeping Forces To U.S.\", \n",
        "\"Danes, Dutch form nation after growing too tired to explain they’re different countries\", \n",
        "\"China unveils new tourism slogan, ‘Come and you’ll never be able to leave'\"\n",
        "\n",
        "]\n",
        "\n",
        "sequences = tokenizer.texts_to_sequences(test_sentences)\n",
        "test_pad = pad_sequences(sequences, maxlen=max_length,padding=padding_type, truncating=trunc_type)\n",
        "print(model.predict(test_pad))"
      ],
      "execution_count": 31,
      "outputs": [
        {
          "output_type": "stream",
          "text": [
            "[[0.00907639]\n",
            " [0.4444482 ]\n",
            " [0.4079649 ]\n",
            " [0.08048009]\n",
            " [0.10359509]\n",
            " [0.06824059]\n",
            " [0.98383266]\n",
            " [0.99204016]\n",
            " [0.9822075 ]\n",
            " [0.83978474]\n",
            " [0.98845404]\n",
            " [0.95324624]]\n"
          ],
          "name": "stdout"
        }
      ]
    }
  ]
}